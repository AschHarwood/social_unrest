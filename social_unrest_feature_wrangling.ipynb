{
  "nbformat": 4,
  "nbformat_minor": 0,
  "metadata": {
    "colab": {
      "name": "social_unrest_feature_wrangling.ipynb",
      "provenance": [],
      "collapsed_sections": [],
      "authorship_tag": "ABX9TyO2LdgXtGJN/YGsaybAlJxq",
      "include_colab_link": true
    },
    "kernelspec": {
      "name": "python3",
      "display_name": "Python 3"
    },
    "language_info": {
      "name": "python"
    }
  },
  "cells": [
    {
      "cell_type": "markdown",
      "metadata": {
        "id": "view-in-github",
        "colab_type": "text"
      },
      "source": [
        "<a href=\"https://colab.research.google.com/github/AschHarwood/social_unrest/blob/main/social_unrest_feature_wrangling.ipynb\" target=\"_parent\"><img src=\"https://colab.research.google.com/assets/colab-badge.svg\" alt=\"Open In Colab\"/></a>"
      ]
    },
    {
      "cell_type": "markdown",
      "metadata": {
        "id": "XUAqlGUmn80F"
      },
      "source": [
        "# Datasets to wrangle\n",
        "\n",
        "- Target data time frame: April 20, 2020 - April 29, 2021\n",
        "\n",
        "## Data Sources\n",
        "\n",
        "#### Static\n",
        "\n",
        "- CDC social vulnerability index\n",
        "- [New York Times Mask Wearing Survey](https://raw.githubusercontent.com/nytimes/covid-19-data/master/mask-use/mask-use-by-county.csv) (d)\n",
        "- MOA Youth Disconnection Index\n",
        "- [ASTDR Place and Health](https://https://colab.research.google.com/drive/1meRtC6LKeuS8kDFt4aoNtqhJzLQufhaZ#scrollTo=XUAqlGUmn80F&line=12&uniqifier=1) (d)\n",
        "- [County-level demographic, socioeconomi, health care, education, and transit data](https://github.com/JieYingWu/COVID-19_US_County-level_Summaries/tree/master/data)\n",
        "- [KFF Cases/Deaths by Race](https://github.com/KFFData/COVID-19-Data/tree/kff_master/Race%20Ethnicity%20COVID-19%20Data/Cases%20and%20Deaths)\n",
        "-[Legislative Composition](https://www.ncsl.org/research/about-state-legislatures/partisan-composition.aspx) (d, pdf)\n",
        "-[Black Representation in Power](https://wholeads.us/datasets/) (d)\n",
        "- [Vote Smart](https://votesmart.org/share/api)\n",
        "- [KFF State Political Parties 2021](https://www.kff.org/other/state-indicator/state-political-parties/?currentTimeframe=0&sortModel=%7B%22colId%22:%22Location%22,%22sort%22:%22asc%22%7D)(d)\n",
        "- [KFF Governors](https://www.kff.org/other/state-indicator/governors/?currentTimeframe=0&sortModel=%7B%22colId%22:%22Location%22,%22sort%22:%22asc%22%7D)(d)\n",
        "- [KFF Demographics and Economy](https://www.kff.org/state-category/demographics-and-the-economy/)\n",
        "- [KFF Critical Care Workforce](https://www.kff.org/report-section/state-covid-19-data-and-policy-actions-policy-actions/#stateleveldata)(d)\n",
        "- [KFF Flu Vaccine and Deaths](https://www.kff.org/report-section/state-covid-19-data-and-policy-actions-policy-actions/#stateleveldata)(d)\n",
        "- [County Health Rankings](https://www.countyhealthrankings.org/explore-health-rankings/measures-data-sources/2021-measures)(d)\n",
        "- [Tufts Misinformation Vulnerabilty Index](https://sites.tufts.edu/digitalplanet/the-misinformation-maelstrom-a-mapping-of-vulnerability-across-america/)(d)\n",
        "- [Conspiratorial thinking during COVID-19](https://osf.io/dtzne/)(d)\n",
        "- [Anxiety, Worry, and Risk/Probability Estimates during COVID-19](https://osf.io/cgzsd/)(d)\n",
        "- [Characterizing Public Perceptions of Social and Cultural Impacts in Policy Decisions](https://osf.io/pgq62/)\n",
        "- [Pew Congress Social Media Activity](https://www.pewresearch.org/internet/dataset/congress-on-social-media-2015-2020/)(d)\n",
        "- [C3 Covid Data Lake](https://c3.ai/covid-19-api-documentation/#tag/PolicyDetail/paths/~1api~11~1policydetail~1fetch/post)\n",
        "\n",
        "\n",
        "#### Time series (Numeric/Cat)\n",
        "\n",
        "- Apple mobility data (d)\n",
        "- [Covid cases/deaths (NYT)](https://data.humdata.org/dataset/nyt-covid-19-data)\n",
        "- [MIT Covid Survey](https://covidsurvey.mit.edu/api.html)\n",
        "- [Share This Market Consumption National US](https://aws.amazon.com/marketplace/pp/prodview-mhxrjlbhfq2qg?ref_=beagle&applicationId=AWSMPContessa#offers)\n",
        "- [Google Community Mobility](https://www.google.com/covid19/mobility/)\n",
        "  - See on [AWS](https://console.aws.amazon.com/dataexchange/home?region=us-east-1#/entitled-data?type=revision&productId=prod-eh4td62sesszk&dataSetId=8620cacff1cf872e2e193b83a9c8799c&revisionId=86dad5bbdcaee4787b5cfa4d80daf5a3)\n",
        "- [KFF Covid State Trend](https://github.com/KFFData/COVID-19-Data/tree/kff_master/State%20Trend%20Data)\n",
        "- [KFF State Social Distancing Policies](https://github.com/KFFData/COVID-19-Data/tree/kff_master/State%20Policy%20Actions/State%20Social%20Distancing%20Actions)\n",
        "- [KFF Long Term Care Deaths](https://www.kff.org/coronavirus-covid-19/issue-brief/state-covid-19-data-and-policy-actions/#policyactions)(d)\n",
        "- [KFF ICU Beds by County](https://khn.org/news/as-coronavirus-spreads-widely-millions-of-older-americans-live-in-counties-with-no-icu-beds/#lookup)(d)\n",
        "- [KFF Covid by Race](https://www.kff.org/other/state-indicator/covid-19-cases-by-race-ethnicity/?currentTimeframe=0&sortModel=%7B%22colId%22:%22Location%22,%22sort%22:%22asc%22%7D)(d)\n",
        "- [KFF COVID-19 Deaths by Race/Ethnicity](https://www.kff.org/other/state-indicator/covid-19-deaths-by-race-ethnicity/?currentTimeframe=0&sortModel=%7B%22colId%22:%22Location%22,%22sort%22:%22asc%22%7D)(d)\n",
        "-  [KFF Percent of Total Population that has Received a COVID-19 Vaccine by Race/Ethnicity](https://www.kff.org/other/state-indicator/percent-of-total-population-that-has-received-a-covid-19-vaccine-by-race-ethnicity/?currentTimeframe=0&sortModel=%7B%22colId%22:%22Location%22,%22sort%22:%22asc%22%7D)(d)\n",
        "- [Facebook Mobility Data](https://data.humdata.org/dataset/movement-range-maps)(d)\n",
        "- [Social Mobility Index](https://socialmobility.covid19dataresources.org/data.html)(d)\n",
        "  - See [github](https://raw.githubusercontent.com/mdredze/covid19_social_mobility.github.io/master/data/longitudinal_state_latest.csv)\n",
        "- [ANES Elections Studies](https://electionstudies.org/data-center/2020-time-series-study/)\n",
        "- [Covid Infodemic Risk Index](https://covid19obs.fbk.eu/#/)(d)\n",
        "- [MIT Covid Attitudes Survey](https://covidsurvey.mit.edu/api.html)\n",
        "#### Time series (text)\n",
        "- News dataset\n",
        "- [Daily geotagged coronavirus tweets](https://ieee-dataport.org/open-access/coronavirus-covid-19-geo-tagged-tweets-dataset#files)\n",
        "- [Covid-19-Tweets](https://github.com/echen102/COVID-19-TweetIDs)\n",
        "- [COVID19_Tweets_Dataset](https://github.com/lopezbec/COVID19_Tweets_Dataset)\n",
        "- [FB Political Ads](https://www.propublica.org/datastore/dataset/political-advertisements-from-facebook)(d)\n",
        "- [Institutional-and-news-media-tweet-dataset-for-COVID-19-social-science-research](https://github.com/narcisoyu/Institutional-and-news-media-tweet-dataset-for-COVID-19-social-science-research)\n",
        "- [Pancea Labs Covid_Twitter](https://github.com/thepanacealab/covid19_twitter)\n",
        "- [GW Tweet Library - Congress, Senate, and Covid datasets](https://tweetsets.library.gwu.edu/datasets)\n",
        "- [COVID-19 Infodemic Twitter Dataset: Modeling the Perspective of Journalists, Fact-Checkers, Social Media Platforms, Policy Makers, and the Society](https://github.com/firojalam/COVID-19-tweets-for-check-worthiness)(d)\n",
        "- [Covied Reddit covid](https://www.kaggle.com/trtmio/project-coviewed-subreddit-coronavirus-news-corpus)\n",
        "- [COVID-19-DBs](https://github.com/yes-lab-covid-19/COVID-19-DBs)\n",
        "- "
      ]
    },
    {
      "cell_type": "code",
      "metadata": {
        "id": "7Cg67UyRn8iV"
      },
      "source": [
        ""
      ],
      "execution_count": null,
      "outputs": []
    },
    {
      "cell_type": "code",
      "metadata": {
        "id": "FAoLhkzmnjh9"
      },
      "source": [
        ""
      ],
      "execution_count": null,
      "outputs": []
    }
  ]
}